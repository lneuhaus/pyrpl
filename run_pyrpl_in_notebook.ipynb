{
 "cells": [
  {
   "cell_type": "code",
   "execution_count": 1,
   "metadata": {},
   "outputs": [
    {
     "name": "stderr",
     "output_type": "stream",
     "text": [
      "C:\\Users\\MichaelCroquette\\anaconda3\\envs\\py312\\Lib\\site-packages\\paramiko\\transport.py:219: CryptographyDeprecationWarning: Blowfish has been deprecated and will be removed in a future release\n",
      "  \"class\": algorithms.Blowfish,\n"
     ]
    }
   ],
   "source": [
    "import sys\n",
    "sys.path.append('C:/Users/michael.croquette/Documents/github/pyrpl') # replace with your pyrpl path\n",
    "import pyrpl"
   ]
  },
  {
   "cell_type": "code",
   "execution_count": null,
   "metadata": {},
   "outputs": [
    {
     "name": "stderr",
     "output_type": "stream",
     "text": [
      "INFO:pyrpl:All your PyRPL settings will be saved to the config file\n",
      "    C:\\Users\\MichaelCroquette\\pyrpl_user_dir\\config\\test.yml\n",
      "If you would like to restart PyRPL with these settings, type \"pyrpl.exe test\" in a windows terminal or \n",
      "    from pyrpl import Pyrpl\n",
      "    p = Pyrpl('test')\n",
      "in a python terminal.\n",
      "WARNING:pyrpl.redpitaya:Simulating RedPitaya because (hostname==_FAKE_). Incomplete functionality possible. \n"
     ]
    }
   ],
   "source": [
    "p = pyrpl.Pyrpl(hostname='_FAKE_', config='test')"
   ]
  },
  {
   "cell_type": "code",
   "execution_count": 4,
   "metadata": {},
   "outputs": [],
   "source": [
    "%gui qt \n",
    "# if the gui is froze"
   ]
  }
 ],
 "metadata": {
  "kernelspec": {
   "display_name": "Python 3 (ipykernel)",
   "language": "python",
   "name": "python3"
  },
  "language_info": {
   "codemirror_mode": {
    "name": "ipython",
    "version": 3
   },
   "file_extension": ".py",
   "mimetype": "text/x-python",
   "name": "python",
   "nbconvert_exporter": "python",
   "pygments_lexer": "ipython3",
   "version": "3.12.4"
  }
 },
 "nbformat": 4,
 "nbformat_minor": 4
}
